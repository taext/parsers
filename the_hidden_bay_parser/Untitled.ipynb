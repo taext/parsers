{
 "cells": [
  {
   "cell_type": "code",
   "execution_count": 1,
   "metadata": {},
   "outputs": [],
   "source": [
    "import requests, re"
   ]
  },
  {
   "cell_type": "code",
   "execution_count": 2,
   "metadata": {},
   "outputs": [],
   "source": [
    "url = 'https://thehiddenbay.com/search/killing%20eve/1/99/0'"
   ]
  },
  {
   "cell_type": "code",
   "execution_count": 3,
   "metadata": {},
   "outputs": [],
   "source": [
    "r = requests.get(url)"
   ]
  },
  {
   "cell_type": "code",
   "execution_count": 4,
   "metadata": {},
   "outputs": [],
   "source": [
    "m = re.findall('href\\=\\\".+?\"', r.text)"
   ]
  },
  {
   "cell_type": "code",
   "execution_count": 5,
   "metadata": {},
   "outputs": [
    {
     "data": {
      "text/plain": [
       "['href=\"/opensearch.xml\"',\n",
       " 'href=\"https://thehiddenbay.com/static/css/pirate6.css\"',\n",
       " 'href=\"//syndication.exoclick.com/\"',\n",
       " 'href=\"//main.exoclick.com/\"',\n",
       " 'href=\"//static-ssl.exoclick.com/\"',\n",
       " 'href=\"//ads.exoclick.com/\"',\n",
       " 'href=\"https://thehiddenbay.com/search/killing eve/1/99/0\"',\n",
       " 'href=\"/static/css/responsive.css\"',\n",
       " 'href=\"/\"',\n",
       " 'href=\"/\"',\n",
       " 'href=\"/browse\"',\n",
       " 'href=\"/recent\"',\n",
       " 'href=\"/tv/\"',\n",
       " 'href=\"/music\"',\n",
       " 'href=\"/top\"',\n",
       " 'href=\"https://thehiddenbay.com/search/killing eve/1/8/0\"',\n",
       " 'href=\"https://thehiddenbay.com/search/killing eve/1/1/0\"',\n",
       " 'href=\"https://thehiddenbay.com/search/killing eve/1/3/0\"',\n",
       " 'href=\"https://thehiddenbay.com/search/killing eve/1/5/0\"',\n",
       " 'href=\"https://thehiddenbay.com/search/killing eve/1/11/0\"',\n",
       " 'href=\"https://thehiddenbay.com/search/killing eve/1/8/0\"',\n",
       " 'href=\"https://thehiddenbay.com/search/killing eve/1/9/0\"',\n",
       " 'href=\"https://thehiddenbay.com/switchview.php?view=s\"',\n",
       " 'href=\"https://thehiddenbay.com/search/killing eve/1/8/0\"',\n",
       " 'href=\"https://thehiddenbay.com/search/killing eve/1/9/0\"',\n",
       " 'href=\"https://thehiddenbay.com/browse/200\"',\n",
       " 'href=\"https://thehiddenbay.com/browse/205\"',\n",
       " 'href=\"https://thehiddenbay.com/torrent/32832015/Killing.Eve.S02E07.WEB.x264-PHOENiX[TGx]\"',\n",
       " 'href=\"magnet:?xt=urn:btih:4e60e81065560fadfcc11cab6867d05c027a122d&dn=Killing.Eve.S02E07.WEB.x264-PHOENiX%5BTGx%5D&tr=udp%3A%2F%2Ftracker.openbittorrent.com%3A80&tr=udp%3A%2F%2Ftracker.publicbt.com%3A80&tr=udp%3A%2F%2Ftracker.ccc.de%3A80\"',\n",
       " 'href=\"https://thehiddenbay.com/user/sotnikam/\"',\n",
       " 'href=\"https://thehiddenbay.com/browse/200\"',\n",
       " 'href=\"https://thehiddenbay.com/browse/205\"',\n",
       " 'href=\"https://thehiddenbay.com/torrent/33049465/Killing.Eve.S02E08.WEB.x264-PHOENiX[TGx]\"',\n",
       " 'href=\"magnet:?xt=urn:btih:1a748fc3dd93560d50dd7f00f972b64b8761f06b&dn=Killing.Eve.S02E08.WEB.x264-PHOENiX%5BTGx%5D&tr=udp%3A%2F%2Ftracker.openbittorrent.com%3A80&tr=udp%3A%2F%2Ftracker.publicbt.com%3A80&tr=udp%3A%2F%2Ftracker.ccc.de%3A80\"',\n",
       " 'href=\"https://thehiddenbay.com/user/sotnikam/\"',\n",
       " 'href=\"https://thehiddenbay.com/browse/200\"',\n",
       " 'href=\"https://thehiddenbay.com/browse/205\"',\n",
       " 'href=\"https://thehiddenbay.com/torrent/32157167/Killing.Eve.S02E04.HDTV.x264-KILLERS[ettv]\"',\n",
       " 'href=\"magnet:?xt=urn:btih:0c384d5fd9bff268a824c10780aee9dc7b0fc287&dn=Killing.Eve.S02E04.HDTV.x264-KILLERS%5Bettv%5D&tr=udp%3A%2F%2Ftracker.openbittorrent.com%3A80&tr=udp%3A%2F%2Ftracker.publicbt.com%3A80&tr=udp%3A%2F%2Ftracker.ccc.de%3A80\"',\n",
       " 'href=\"https://thehiddenbay.com/user/ettv/\"',\n",
       " 'href=\"https://thehiddenbay.com/user/ettv/\"',\n",
       " 'href=\"https://thehiddenbay.com/browse/200\"',\n",
       " 'href=\"https://thehiddenbay.com/browse/205\"',\n",
       " 'href=\"https://thehiddenbay.com/torrent/32490321/Killing.Eve.S02E05.HDTV.x264-KILLERS[ettv]\"',\n",
       " 'href=\"magnet:?xt=urn:btih:783786ad67f7a69172958e856d2ad2f78979d8d1&dn=Killing.Eve.S02E05.HDTV.x264-KILLERS%5Bettv%5D&tr=udp%3A%2F%2Ftracker.openbittorrent.com%3A80&tr=udp%3A%2F%2Ftracker.publicbt.com%3A80&tr=udp%3A%2F%2Ftracker.ccc.de%3A80\"',\n",
       " 'href=\"https://thehiddenbay.com/user/ettv/\"',\n",
       " 'href=\"https://thehiddenbay.com/user/ettv/\"',\n",
       " 'href=\"https://thehiddenbay.com/browse/200\"',\n",
       " 'href=\"https://thehiddenbay.com/browse/208\"',\n",
       " 'href=\"https://thehiddenbay.com/torrent/31492765/Killing.Eve.S02E02.720p.HDTV.x264-LucidTV[ettv]\"',\n",
       " 'href=\"magnet:?xt=urn:btih:5642557a4c66fdf64d959cbd3774cbdcce3e34e2&dn=Killing.Eve.S02E02.720p.HDTV.x264-LucidTV%5Bettv%5D&tr=udp%3A%2F%2Ftracker.openbittorrent.com%3A80&tr=udp%3A%2F%2Ftracker.publicbt.com%3A80&tr=udp%3A%2F%2Ftracker.ccc.de%3A80\"',\n",
       " 'href=\"https://thehiddenbay.com/user/EtHD/\"',\n",
       " 'href=\"https://thehiddenbay.com/user/EtHD/\"',\n",
       " 'href=\"https://thehiddenbay.com/browse/200\"',\n",
       " 'href=\"https://thehiddenbay.com/browse/205\"',\n",
       " 'href=\"https://thehiddenbay.com/torrent/32659809/Killing.Eve.S02E06.I.Hope.You.Like.Missionary.576p.AUBC.WEB-DL.A\"',\n",
       " 'href=\"magnet:?xt=urn:btih:ba933445eac8fbefdb2ccc8dba010821194039ca&dn=Killing.Eve.S02E06.I.Hope.You.Like.Missionary.576p.AUBC.WEB-DL.A&tr=udp%3A%2F%2Ftracker.openbittorrent.com%3A80&tr=udp%3A%2F%2Ftracker.publicbt.com%3A80&tr=udp%3A%2F%2Ftracker.ccc.de%3A80\"',\n",
       " 'href=\"https://thehiddenbay.com/user/sotnikam/\"',\n",
       " 'href=\"https://thehiddenbay.com/browse/200\"',\n",
       " 'href=\"https://thehiddenbay.com/browse/205\"',\n",
       " 'href=\"https://thehiddenbay.com/torrent/31853479/Killing.Eve.S02E03.HDTV.x264-LucidTV[ettv]\"',\n",
       " 'href=\"magnet:?xt=urn:btih:e99bd8c38123d74698d502d3a8e4f764c93a0473&dn=Killing.Eve.S02E03.HDTV.x264-LucidTV%5Bettv%5D&tr=udp%3A%2F%2Ftracker.openbittorrent.com%3A80&tr=udp%3A%2F%2Ftracker.publicbt.com%3A80&tr=udp%3A%2F%2Ftracker.ccc.de%3A80\"',\n",
       " 'href=\"https://thehiddenbay.com/user/ettv/\"',\n",
       " 'href=\"https://thehiddenbay.com/user/ettv/\"',\n",
       " 'href=\"https://thehiddenbay.com/browse/200\"',\n",
       " 'href=\"https://thehiddenbay.com/browse/208\"',\n",
       " 'href=\"https://thehiddenbay.com/torrent/22546303/Killing_Eve_-_Season_1_(Complete)_-_Mp4_x264_AC3_1080p\"',\n",
       " 'href=\"magnet:?xt=urn:btih:07eb52765ca3f3df9c2bdb4a9b390309d01ec21a&dn=Killing+Eve+-+Season+1+%28Complete%29+-+Mp4+x264+AC3+1080p&tr=udp%3A%2F%2Ftracker.openbittorrent.com%3A80&tr=udp%3A%2F%2Ftracker.publicbt.com%3A80&tr=udp%3A%2F%2Ftracker.ccc.de%3A80\"',\n",
       " 'href=\"https://thehiddenbay.com/user/Truth4U/\"',\n",
       " 'href=\"https://thehiddenbay.com/user/Truth4U/\"',\n",
       " 'href=\"https://thehiddenbay.com/browse/200\"',\n",
       " 'href=\"https://thehiddenbay.com/browse/208\"',\n",
       " 'href=\"https://thehiddenbay.com/torrent/22656870/Killing_Eve_Season_1_Complete_720p_WEB_x264_[i_c]\"',\n",
       " 'href=\"magnet:?xt=urn:btih:8b3fdec380c08d34833e166c1195aa52c803dc29&dn=Killing+Eve+Season+1+Complete+720p+WEB+x264+%5Bi_c%5D&tr=udp%3A%2F%2Ftracker.openbittorrent.com%3A80&tr=udp%3A%2F%2Ftracker.publicbt.com%3A80&tr=udp%3A%2F%2Ftracker.ccc.de%3A80\"',\n",
       " 'href=\"https://thehiddenbay.com/user/ice_cracked/\"',\n",
       " 'href=\"https://thehiddenbay.com/user/ice_cracked/\"',\n",
       " 'href=\"https://thehiddenbay.com/browse/200\"',\n",
       " 'href=\"https://thehiddenbay.com/browse/205\"',\n",
       " 'href=\"https://thehiddenbay.com/torrent/31211813/Killing.Eve.S02E01.WEB-DL.AAC2.0.H.264[TGx]\"',\n",
       " 'href=\"magnet:?xt=urn:btih:b3fc6c934fbdd873ec32fde17420e2e640c20760&dn=Killing.Eve.S02E01.WEB-DL.AAC2.0.H.264%5BTGx%5D&tr=udp%3A%2F%2Ftracker.openbittorrent.com%3A80&tr=udp%3A%2F%2Ftracker.publicbt.com%3A80&tr=udp%3A%2F%2Ftracker.ccc.de%3A80\"',\n",
       " 'href=\"https://thehiddenbay.com/user/sotnikam/\"',\n",
       " 'href=\"https://thehiddenbay.com/browse/200\"',\n",
       " 'href=\"https://thehiddenbay.com/browse/208\"',\n",
       " 'href=\"https://thehiddenbay.com/torrent/32834356/Killing.Eve.S02E07.720p.HDTV.x264-LucidTV[ettv]\"',\n",
       " 'href=\"magnet:?xt=urn:btih:a51f9dac065750242dd7e3f871ed4ad2ef35226d&dn=Killing.Eve.S02E07.720p.HDTV.x264-LucidTV%5Bettv%5D&tr=udp%3A%2F%2Ftracker.openbittorrent.com%3A80&tr=udp%3A%2F%2Ftracker.publicbt.com%3A80&tr=udp%3A%2F%2Ftracker.ccc.de%3A80\"',\n",
       " 'href=\"https://thehiddenbay.com/user/EtHD/\"',\n",
       " 'href=\"https://thehiddenbay.com/user/EtHD/\"',\n",
       " 'href=\"https://thehiddenbay.com/browse/200\"',\n",
       " 'href=\"https://thehiddenbay.com/browse/205\"',\n",
       " 'href=\"https://thehiddenbay.com/torrent/32705769/Killing.Eve.S02E06.HDTV.x264-KILLERS[ettv]\"',\n",
       " 'href=\"magnet:?xt=urn:btih:0fad3a94fafbdb684dd12b5ef5628e81277aa022&dn=Killing.Eve.S02E06.HDTV.x264-KILLERS%5Bettv%5D&tr=udp%3A%2F%2Ftracker.openbittorrent.com%3A80&tr=udp%3A%2F%2Ftracker.publicbt.com%3A80&tr=udp%3A%2F%2Ftracker.ccc.de%3A80\"',\n",
       " 'href=\"https://thehiddenbay.com/user/ettv/\"',\n",
       " 'href=\"https://thehiddenbay.com/user/ettv/\"',\n",
       " 'href=\"https://thehiddenbay.com/browse/200\"',\n",
       " 'href=\"https://thehiddenbay.com/browse/205\"',\n",
       " 'href=\"https://thehiddenbay.com/torrent/31256164/Killing.Eve.S02E01.HDTV.x264-SVA[ettv]\"',\n",
       " 'href=\"magnet:?xt=urn:btih:8bf970a639ca831643ba9701c683560de3e9a01a&dn=Killing.Eve.S02E01.HDTV.x264-SVA%5Bettv%5D&tr=udp%3A%2F%2Ftracker.openbittorrent.com%3A80&tr=udp%3A%2F%2Ftracker.publicbt.com%3A80&tr=udp%3A%2F%2Ftracker.ccc.de%3A80\"',\n",
       " 'href=\"https://thehiddenbay.com/user/ettv/\"',\n",
       " 'href=\"https://thehiddenbay.com/user/ettv/\"',\n",
       " 'href=\"https://thehiddenbay.com/browse/200\"',\n",
       " 'href=\"https://thehiddenbay.com/browse/208\"',\n",
       " 'href=\"https://thehiddenbay.com/torrent/32705774/Killing.Eve.S02E06.720p.HDTV.x264-KILLERS[ettv]\"',\n",
       " 'href=\"magnet:?xt=urn:btih:301745243f79428819ef2e0f28b41d88ceaed059&dn=Killing.Eve.S02E06.720p.HDTV.x264-KILLERS%5Bettv%5D&tr=udp%3A%2F%2Ftracker.openbittorrent.com%3A80&tr=udp%3A%2F%2Ftracker.publicbt.com%3A80&tr=udp%3A%2F%2Ftracker.ccc.de%3A80\"',\n",
       " 'href=\"https://thehiddenbay.com/user/EtHD/\"',\n",
       " 'href=\"https://thehiddenbay.com/user/EtHD/\"',\n",
       " 'href=\"https://thehiddenbay.com/browse/200\"',\n",
       " 'href=\"https://thehiddenbay.com/browse/205\"',\n",
       " 'href=\"https://thehiddenbay.com/torrent/21013980/Killing.Eve.S01E01.WEBRip.x264-TBS[ettv]\"',\n",
       " 'href=\"magnet:?xt=urn:btih:f3d007be5d17e37ced85794b17ff0bee2bba0fd0&dn=Killing.Eve.S01E01.WEBRip.x264-TBS%5Bettv%5D&tr=udp%3A%2F%2Ftracker.openbittorrent.com%3A80&tr=udp%3A%2F%2Ftracker.publicbt.com%3A80&tr=udp%3A%2F%2Ftracker.ccc.de%3A80\"',\n",
       " 'href=\"https://thehiddenbay.com/user/ettv/\"',\n",
       " 'href=\"https://thehiddenbay.com/user/ettv/\"',\n",
       " 'href=\"https://thehiddenbay.com/browse/200\"',\n",
       " 'href=\"https://thehiddenbay.com/browse/208\"',\n",
       " 'href=\"https://thehiddenbay.com/torrent/32157151/Killing.Eve.S02E04.720p.HDTV.x264-KILLERS[ettv]\"',\n",
       " 'href=\"magnet:?xt=urn:btih:2b41cd15aa6339b6d6fe15fe3b7756b386a23564&dn=Killing.Eve.S02E04.720p.HDTV.x264-KILLERS%5Bettv%5D&tr=udp%3A%2F%2Ftracker.openbittorrent.com%3A80&tr=udp%3A%2F%2Ftracker.publicbt.com%3A80&tr=udp%3A%2F%2Ftracker.ccc.de%3A80\"',\n",
       " 'href=\"https://thehiddenbay.com/user/EtHD/\"',\n",
       " 'href=\"https://thehiddenbay.com/user/EtHD/\"',\n",
       " 'href=\"https://thehiddenbay.com/browse/200\"',\n",
       " 'href=\"https://thehiddenbay.com/browse/205\"',\n",
       " 'href=\"https://thehiddenbay.com/torrent/32417050/Killing.Eve.S02E05.Smell.Ya.Later.576p.AUBC.WEB-DL.AAC2.0.x264[T\"',\n",
       " 'href=\"magnet:?xt=urn:btih:310714cd1cdce0e4541b15b6198d86937fd4f4b3&dn=Killing.Eve.S02E05.Smell.Ya.Later.576p.AUBC.WEB-DL.AAC2.0.x264%5BT&tr=udp%3A%2F%2Ftracker.openbittorrent.com%3A80&tr=udp%3A%2F%2Ftracker.publicbt.com%3A80&tr=udp%3A%2F%2Ftracker.ccc.de%3A80\"',\n",
       " 'href=\"https://thehiddenbay.com/user/sotnikam/\"',\n",
       " 'href=\"https://thehiddenbay.com/browse/200\"',\n",
       " 'href=\"https://thehiddenbay.com/browse/208\"',\n",
       " 'href=\"https://thehiddenbay.com/torrent/31853462/Killing.Eve.S02E03.720p.HDTV.x264-LucidTV[ettv]\"',\n",
       " 'href=\"magnet:?xt=urn:btih:41ee59f664875e838612e9ae79f85c30a22fcef5&dn=Killing.Eve.S02E03.720p.HDTV.x264-LucidTV%5Bettv%5D&tr=udp%3A%2F%2Ftracker.openbittorrent.com%3A80&tr=udp%3A%2F%2Ftracker.publicbt.com%3A80&tr=udp%3A%2F%2Ftracker.ccc.de%3A80\"',\n",
       " 'href=\"https://thehiddenbay.com/user/EtHD/\"',\n",
       " 'href=\"https://thehiddenbay.com/user/EtHD/\"',\n",
       " 'href=\"https://thehiddenbay.com/browse/200\"',\n",
       " 'href=\"https://thehiddenbay.com/browse/208\"',\n",
       " 'href=\"https://thehiddenbay.com/torrent/32490349/Killing.Eve.S02E05.720p.HDTV.x264-KILLERS[ettv]\"',\n",
       " 'href=\"magnet:?xt=urn:btih:5247b3e7f0b0fbb9b65abb36f2876f935aea9f98&dn=Killing.Eve.S02E05.720p.HDTV.x264-KILLERS%5Bettv%5D&tr=udp%3A%2F%2Ftracker.openbittorrent.com%3A80&tr=udp%3A%2F%2Ftracker.publicbt.com%3A80&tr=udp%3A%2F%2Ftracker.ccc.de%3A80\"',\n",
       " 'href=\"https://thehiddenbay.com/user/EtHD/\"',\n",
       " 'href=\"https://thehiddenbay.com/user/EtHD/\"',\n",
       " 'href=\"https://thehiddenbay.com/browse/200\"',\n",
       " 'href=\"https://thehiddenbay.com/browse/205\"',\n",
       " 'href=\"https://thehiddenbay.com/torrent/22406843/Killing.Eve.S01E08.HDTV.x264-W4F\"',\n",
       " 'href=\"magnet:?xt=urn:btih:c3e345edc4113c7a9769afee5b63199a0e2121f1&dn=Killing.Eve.S01E08.HDTV.x264-W4F&tr=udp%3A%2F%2Ftracker.openbittorrent.com%3A80&tr=udp%3A%2F%2Ftracker.publicbt.com%3A80&tr=udp%3A%2F%2Ftracker.ccc.de%3A80\"',\n",
       " 'href=\"https://thehiddenbay.com/user/MrStark/\"',\n",
       " 'href=\"https://thehiddenbay.com/browse/200\"',\n",
       " 'href=\"https://thehiddenbay.com/browse/205\"',\n",
       " 'href=\"https://thehiddenbay.com/torrent/21191998/Killing.Eve.S01E03.CONVERT.WEB.h264-TBS\"',\n",
       " 'href=\"magnet:?xt=urn:btih:a50ab97722d4437db1a7bf96a5121234581ee9ec&dn=Killing.Eve.S01E03.CONVERT.WEB.h264-TBS&tr=udp%3A%2F%2Ftracker.openbittorrent.com%3A80&tr=udp%3A%2F%2Ftracker.publicbt.com%3A80&tr=udp%3A%2F%2Ftracker.ccc.de%3A80\"',\n",
       " 'href=\"https://thehiddenbay.com/user/SeekNDstroy/\"',\n",
       " 'href=\"https://thehiddenbay.com/browse/200\"',\n",
       " 'href=\"https://thehiddenbay.com/browse/208\"',\n",
       " 'href=\"https://thehiddenbay.com/torrent/32706883/Killing.Eve.S02E06.1080p.WEB.H264-METCON[TGx]\"',\n",
       " 'href=\"magnet:?xt=urn:btih:36980ff037a59a8380c33f7dae729aeff4629976&dn=Killing.Eve.S02E06.1080p.WEB.H264-METCON%5BTGx%5D&tr=udp%3A%2F%2Ftracker.openbittorrent.com%3A80&tr=udp%3A%2F%2Ftracker.publicbt.com%3A80&tr=udp%3A%2F%2Ftracker.ccc.de%3A80\"',\n",
       " 'href=\"https://thehiddenbay.com/user/sotnikam/\"',\n",
       " 'href=\"https://thehiddenbay.com/browse/200\"',\n",
       " 'href=\"https://thehiddenbay.com/browse/208\"',\n",
       " 'href=\"https://thehiddenbay.com/torrent/32837357/Killing_Eve_S02E07_iNTERNAL_1080p_WEB_H264-AMRAP\"',\n",
       " 'href=\"magnet:?xt=urn:btih:a380daa11814190edce1ad2b5fb936a0db5ea033&dn=Killing+Eve+S02E07+iNTERNAL+1080p+WEB+H264-AMRAP&tr=udp%3A%2F%2Ftracker.openbittorrent.com%3A80&tr=udp%3A%2F%2Ftracker.publicbt.com%3A80&tr=udp%3A%2F%2Ftracker.ccc.de%3A80\"',\n",
       " 'href=\"https://thehiddenbay.com/user/TvTeam/\"',\n",
       " 'href=\"https://thehiddenbay.com/user/TvTeam/\"',\n",
       " 'href=\"https://thehiddenbay.com/browse/200\"',\n",
       " 'href=\"https://thehiddenbay.com/browse/205\"',\n",
       " 'href=\"https://thehiddenbay.com/torrent/31493195/Killing.Eve.S02E02.XviD-AFG[TGx]\"',\n",
       " 'href=\"magnet:?xt=urn:btih:447d219b7a633882782b1f83516405cc1a77655b&dn=Killing.Eve.S02E02.XviD-AFG%5BTGx%5D&tr=udp%3A%2F%2Ftracker.openbittorrent.com%3A80&tr=udp%3A%2F%2Ftracker.publicbt.com%3A80&tr=udp%3A%2F%2Ftracker.ccc.de%3A80\"',\n",
       " 'href=\"https://thehiddenbay.com/user/sotnikam/\"',\n",
       " 'href=\"https://thehiddenbay.com/browse/200\"',\n",
       " 'href=\"https://thehiddenbay.com/browse/208\"',\n",
       " 'href=\"https://thehiddenbay.com/torrent/31259233/Killing.Eve.S02E01.1080p.WEB-DL.AAC.H264-CMRG[TGx]\"',\n",
       " 'href=\"magnet:?xt=urn:btih:dc8a552af09eb162aba818ead1fbf6a0445e95fe&dn=Killing.Eve.S02E01.1080p.WEB-DL.AAC.H264-CMRG%5BTGx%5D&tr=udp%3A%2F%2Ftracker.openbittorrent.com%3A80&tr=udp%3A%2F%2Ftracker.publicbt.com%3A80&tr=udp%3A%2F%2Ftracker.ccc.de%3A80\"',\n",
       " 'href=\"https://thehiddenbay.com/user/sotnikam/\"',\n",
       " 'href=\"https://thehiddenbay.com/browse/200\"',\n",
       " 'href=\"https://thehiddenbay.com/browse/208\"',\n",
       " 'href=\"https://thehiddenbay.com/torrent/31273386/Killing.Eve.S01.COMPLETE.720p.AMZN.WEBRip.x264-GalaxyTV\"',\n",
       " 'href=\"magnet:?xt=urn:btih:a1f1d5a242b88658652bede8f4df6350e14c7afc&dn=Killing.Eve.S01.COMPLETE.720p.AMZN.WEBRip.x264-GalaxyTV&tr=udp%3A%2F%2Ftracker.openbittorrent.com%3A80&tr=udp%3A%2F%2Ftracker.publicbt.com%3A80&tr=udp%3A%2F%2Ftracker.ccc.de%3A80\"',\n",
       " 'href=\"https://thehiddenbay.com/user/sotnikam/\"',\n",
       " 'href=\"https://thehiddenbay.com/browse/200\"',\n",
       " 'href=\"https://thehiddenbay.com/browse/208\"',\n",
       " 'href=\"https://thehiddenbay.com/torrent/31858476/Killing.Eve.S02E03.1080p.WEB.H264-AMCON[TGx]\"',\n",
       " 'href=\"magnet:?xt=urn:btih:f74a0f8b8802f093fe50cd1a2bc9d578120434f1&dn=Killing.Eve.S02E03.1080p.WEB.H264-AMCON%5BTGx%5D&tr=udp%3A%2F%2Ftracker.openbittorrent.com%3A80&tr=udp%3A%2F%2Ftracker.publicbt.com%3A80&tr=udp%3A%2F%2Ftracker.ccc.de%3A80\"',\n",
       " 'href=\"https://thehiddenbay.com/user/sotnikam/\"',\n",
       " 'href=\"https://thehiddenbay.com/browse/200\"',\n",
       " 'href=\"https://thehiddenbay.com/browse/205\"',\n",
       " 'href=\"https://thehiddenbay.com/torrent/21945016/Killing.Eve.S01E06.HDTV.x264-W4F[ettv]\"',\n",
       " 'href=\"magnet:?xt=urn:btih:75486dd0829989b68ef2fdcf973f3491dd4c870a&dn=Killing.Eve.S01E06.HDTV.x264-W4F%5Bettv%5D&tr=udp%3A%2F%2Ftracker.openbittorrent.com%3A80&tr=udp%3A%2F%2Ftracker.publicbt.com%3A80&tr=udp%3A%2F%2Ftracker.ccc.de%3A80\"',\n",
       " 'href=\"https://thehiddenbay.com/user/ettv/\"',\n",
       " 'href=\"https://thehiddenbay.com/user/ettv/\"',\n",
       " 'href=\"https://thehiddenbay.com/browse/200\"',\n",
       " 'href=\"https://thehiddenbay.com/browse/205\"',\n",
       " 'href=\"https://thehiddenbay.com/torrent/32856382/Killing.Eve.S02E07.HDTV.x264-LucidTV[ettv]\"',\n",
       " 'href=\"magnet:?xt=urn:btih:8015e57eaec182f66fb1b7afe4f239253f084d51&dn=Killing.Eve.S02E07.HDTV.x264-LucidTV%5Bettv%5D&tr=udp%3A%2F%2Ftracker.openbittorrent.com%3A80&tr=udp%3A%2F%2Ftracker.publicbt.com%3A80&tr=udp%3A%2F%2Ftracker.ccc.de%3A80\"',\n",
       " 'href=\"https://thehiddenbay.com/user/ettv/\"',\n",
       " 'href=\"https://thehiddenbay.com/user/ettv/\"',\n",
       " 'href=\"https://thehiddenbay.com/browse/200\"',\n",
       " 'href=\"https://thehiddenbay.com/browse/208\"',\n",
       " 'href=\"https://thehiddenbay.com/torrent/21095127/Killing.Eve.S01E02.720p.HDTV.x264-W4F[ettv]\"',\n",
       " 'href=\"magnet:?xt=urn:btih:2d3154b2a8c641fdd1eaa6a6b23ee7f092429035&dn=Killing.Eve.S01E02.720p.HDTV.x264-W4F%5Bettv%5D&tr=udp%3A%2F%2Ftracker.openbittorrent.com%3A80&tr=udp%3A%2F%2Ftracker.publicbt.com%3A80&tr=udp%3A%2F%2Ftracker.ccc.de%3A80\"',\n",
       " 'href=\"https://thehiddenbay.com/user/EtHD/\"',\n",
       " 'href=\"https://thehiddenbay.com/user/EtHD/\"',\n",
       " 'href=\"/search/killing eve/2/99/0\"',\n",
       " 'href=\"/search/killing eve/3/99/0\"',\n",
       " 'href=\"/search/killing eve/4/99/0\"',\n",
       " 'href=\"/search/killing eve/5/99/0\"',\n",
       " 'href=\"/search/killing eve/6/99/0\"',\n",
       " 'href=\"/search/killing eve/7/99/0\"',\n",
       " 'href=\"/search/killing eve/8/99/0\"',\n",
       " 'href=\"/search/killing eve/9/99/0\"',\n",
       " 'href=\"/search/killing eve/2/99/0\"',\n",
       " 'href=\"https://piratebay-proxylist.com\"',\n",
       " 'href=\"https://thepiratebay.rocks\"',\n",
       " 'href=\"/login\"',\n",
       " 'href=\"/register\"',\n",
       " 'href=\"/language\"',\n",
       " 'href=\"/about\"',\n",
       " 'href=\"/blog\"',\n",
       " 'href=\"/contact\"',\n",
       " 'href=\"/policy\"',\n",
       " 'href=\"http://uj3wazyk5u4hnvtk.onion\"',\n",
       " 'href=\"/doodles\"',\n",
       " 'href=\"http://pirates-forum.org/\"',\n",
       " 'href=\"https://bitcoin.org\"',\n",
       " 'href=\"bitcoin:1EvhhhAxJZcfuZ5JbfLV9Mi8en63FULnDR\"',\n",
       " 'href=\"/rss\"']"
      ]
     },
     "execution_count": 5,
     "metadata": {},
     "output_type": "execute_result"
    }
   ],
   "source": [
    "m"
   ]
  },
  {
   "cell_type": "code",
   "execution_count": 8,
   "metadata": {},
   "outputs": [],
   "source": [
    " m2 = re.findall('href\\=\\\"magnet.+?\\\"', r.text)"
   ]
  },
  {
   "cell_type": "code",
   "execution_count": 10,
   "metadata": {},
   "outputs": [
    {
     "data": {
      "text/plain": [
       "30"
      ]
     },
     "execution_count": 10,
     "metadata": {},
     "output_type": "execute_result"
    }
   ],
   "source": [
    "len(m2)"
   ]
  },
  {
   "cell_type": "code",
   "execution_count": 13,
   "metadata": {},
   "outputs": [],
   "source": [
    "m3 = re.findall('href\\=\\\"https.+?torrent.+?\\\"', r.text)"
   ]
  },
  {
   "cell_type": "code",
   "execution_count": 15,
   "metadata": {},
   "outputs": [
    {
     "data": {
      "text/plain": [
       "30"
      ]
     },
     "execution_count": 15,
     "metadata": {},
     "output_type": "execute_result"
    }
   ],
   "source": [
    "len(m3)"
   ]
  },
  {
   "cell_type": "code",
   "execution_count": 18,
   "metadata": {},
   "outputs": [],
   "source": [
    "m4 = re.findall('title\\=\\\"Details for.+?\">(.+?)<', r.text)"
   ]
  },
  {
   "cell_type": "code",
   "execution_count": 20,
   "metadata": {},
   "outputs": [
    {
     "data": {
      "text/plain": [
       "30"
      ]
     },
     "execution_count": 20,
     "metadata": {},
     "output_type": "execute_result"
    }
   ],
   "source": [
    "len(m4)"
   ]
  },
  {
   "cell_type": "code",
   "execution_count": 21,
   "metadata": {},
   "outputs": [],
   "source": [
    "import collections"
   ]
  },
  {
   "cell_type": "code",
   "execution_count": 38,
   "metadata": {},
   "outputs": [],
   "source": [
    "def run(url):\n",
    "    r = requests.get(url)\n",
    "    # get magnet links\n",
    "    m2 = re.findall('href\\=\\\"(magnet.+?)\\\"', r.text)\n",
    "    # get torrent page links\n",
    "    m3 = re.findall('href\\=\\\"(https.+?torrent.+?)\\\"', r.text)\n",
    "    # get titles\n",
    "    m4 = re.findall('title\\=\\\"Details for.+?\">(.+?)<', r.text)\n",
    "    torrent_list = []\n",
    "    torrent_dict = collections.OrderedDict()\n",
    "    for i, item in enumerate(m2):\n",
    "        torrent_title = m4[i]\n",
    "        torrent_magnet = m2[i]\n",
    "        torrent_page = m3[i]\n",
    "        Torrent = collections.namedtuple('Torrent', ' title magnet_link torrent_page_link')\n",
    "        myTorrent = Torrent(title=torrent_title, magnet_link=torrent_magnet, torrent_page_link=torrent_page)\n",
    "        torrent_list.append(myTorrent)\n",
    "        torrent_dict[torrent_title] = myTorrent\n",
    "    return(torrent_list, torrent_dict)\n",
    "        \n",
    "        \n",
    "    "
   ]
  },
  {
   "cell_type": "code",
   "execution_count": 40,
   "metadata": {},
   "outputs": [],
   "source": [
    "result_dict, result_dict = run(url)"
   ]
  },
  {
   "cell_type": "code",
   "execution_count": 42,
   "metadata": {},
   "outputs": [
    {
     "data": {
      "text/plain": [
       "odict_keys(['Killing.Eve.S02E07.WEB.x264-PHOENiX[TGx]', 'Killing.Eve.S02E08.WEB.x264-PHOENiX[TGx]', 'Killing.Eve.S02E04.HDTV.x264-KILLERS[ettv]', 'Killing.Eve.S02E05.HDTV.x264-KILLERS[ettv]', 'Killing.Eve.S02E02.720p.HDTV.x264-LucidTV[ettv]', 'Killing.Eve.S02E06.I.Hope.You.Like.Missionary.576p.AUBC.WEB-DL.A', 'Killing.Eve.S02E03.HDTV.x264-LucidTV[ettv]', 'Killing Eve - Season 1 (Complete) - Mp4 x264 AC3 1080p', 'Killing Eve Season 1 Complete 720p WEB x264 [i_c]', 'Killing.Eve.S02E01.WEB-DL.AAC2.0.H.264[TGx]', 'Killing.Eve.S02E07.720p.HDTV.x264-LucidTV[ettv]', 'Killing.Eve.S02E06.HDTV.x264-KILLERS[ettv]', 'Killing.Eve.S02E01.HDTV.x264-SVA[ettv]', 'Killing.Eve.S02E06.720p.HDTV.x264-KILLERS[ettv]', 'Killing.Eve.S01E01.WEBRip.x264-TBS[ettv]', 'Killing.Eve.S02E04.720p.HDTV.x264-KILLERS[ettv]', 'Killing.Eve.S02E05.Smell.Ya.Later.576p.AUBC.WEB-DL.AAC2.0.x264[T', 'Killing.Eve.S02E03.720p.HDTV.x264-LucidTV[ettv]', 'Killing.Eve.S02E05.720p.HDTV.x264-KILLERS[ettv]', 'Killing.Eve.S01E08.HDTV.x264-W4F', 'Killing.Eve.S01E03.CONVERT.WEB.h264-TBS', 'Killing.Eve.S02E06.1080p.WEB.H264-METCON[TGx]', 'Killing Eve S02E07 iNTERNAL 1080p WEB H264-AMRAP', 'Killing.Eve.S02E02.XviD-AFG[TGx]', 'Killing.Eve.S02E01.1080p.WEB-DL.AAC.H264-CMRG[TGx]', 'Killing.Eve.S01.COMPLETE.720p.AMZN.WEBRip.x264-GalaxyTV', 'Killing.Eve.S02E03.1080p.WEB.H264-AMCON[TGx]', 'Killing.Eve.S01E06.HDTV.x264-W4F[ettv]', 'Killing.Eve.S02E07.HDTV.x264-LucidTV[ettv]', 'Killing.Eve.S01E02.720p.HDTV.x264-W4F[ettv]'])"
      ]
     },
     "execution_count": 42,
     "metadata": {},
     "output_type": "execute_result"
    }
   ],
   "source": [
    "result_dict.keys()"
   ]
  },
  {
   "cell_type": "code",
   "execution_count": 43,
   "metadata": {},
   "outputs": [
    {
     "data": {
      "text/plain": [
       "30"
      ]
     },
     "execution_count": 43,
     "metadata": {},
     "output_type": "execute_result"
    }
   ],
   "source": [
    "len(result_dict.keys())"
   ]
  },
  {
   "cell_type": "code",
   "execution_count": 37,
   "metadata": {},
   "outputs": [
    {
     "name": "stdout",
     "output_type": "stream",
     "text": [
      "Torrent(title='Killing.Eve.S02E07.WEB.x264-PHOENiX[TGx]', magnet_link='magnet:?xt=urn:btih:4e60e81065560fadfcc11cab6867d05c027a122d&dn=Killing.Eve.S02E07.WEB.x264-PHOENiX%5BTGx%5D&tr=udp%3A%2F%2Ftracker.openbittorrent.com%3A80&tr=udp%3A%2F%2Ftracker.publicbt.com%3A80&tr=udp%3A%2F%2Ftracker.ccc.de%3A80', torrent_page_link='https://thehiddenbay.com/torrent/32832015/Killing.Eve.S02E07.WEB.x264-PHOENiX[TGx]')\n",
      "Torrent(title='Killing.Eve.S02E08.WEB.x264-PHOENiX[TGx]', magnet_link='magnet:?xt=urn:btih:1a748fc3dd93560d50dd7f00f972b64b8761f06b&dn=Killing.Eve.S02E08.WEB.x264-PHOENiX%5BTGx%5D&tr=udp%3A%2F%2Ftracker.openbittorrent.com%3A80&tr=udp%3A%2F%2Ftracker.publicbt.com%3A80&tr=udp%3A%2F%2Ftracker.ccc.de%3A80', torrent_page_link='https://thehiddenbay.com/torrent/33049465/Killing.Eve.S02E08.WEB.x264-PHOENiX[TGx]')\n",
      "Torrent(title='Killing.Eve.S02E04.HDTV.x264-KILLERS[ettv]', magnet_link='magnet:?xt=urn:btih:0c384d5fd9bff268a824c10780aee9dc7b0fc287&dn=Killing.Eve.S02E04.HDTV.x264-KILLERS%5Bettv%5D&tr=udp%3A%2F%2Ftracker.openbittorrent.com%3A80&tr=udp%3A%2F%2Ftracker.publicbt.com%3A80&tr=udp%3A%2F%2Ftracker.ccc.de%3A80', torrent_page_link='https://thehiddenbay.com/torrent/32157167/Killing.Eve.S02E04.HDTV.x264-KILLERS[ettv]')\n",
      "Torrent(title='Killing.Eve.S02E05.HDTV.x264-KILLERS[ettv]', magnet_link='magnet:?xt=urn:btih:783786ad67f7a69172958e856d2ad2f78979d8d1&dn=Killing.Eve.S02E05.HDTV.x264-KILLERS%5Bettv%5D&tr=udp%3A%2F%2Ftracker.openbittorrent.com%3A80&tr=udp%3A%2F%2Ftracker.publicbt.com%3A80&tr=udp%3A%2F%2Ftracker.ccc.de%3A80', torrent_page_link='https://thehiddenbay.com/torrent/32490321/Killing.Eve.S02E05.HDTV.x264-KILLERS[ettv]')\n",
      "Torrent(title='Killing.Eve.S02E02.720p.HDTV.x264-LucidTV[ettv]', magnet_link='magnet:?xt=urn:btih:5642557a4c66fdf64d959cbd3774cbdcce3e34e2&dn=Killing.Eve.S02E02.720p.HDTV.x264-LucidTV%5Bettv%5D&tr=udp%3A%2F%2Ftracker.openbittorrent.com%3A80&tr=udp%3A%2F%2Ftracker.publicbt.com%3A80&tr=udp%3A%2F%2Ftracker.ccc.de%3A80', torrent_page_link='https://thehiddenbay.com/torrent/31492765/Killing.Eve.S02E02.720p.HDTV.x264-LucidTV[ettv]')\n",
      "Torrent(title='Killing.Eve.S02E06.I.Hope.You.Like.Missionary.576p.AUBC.WEB-DL.A', magnet_link='magnet:?xt=urn:btih:ba933445eac8fbefdb2ccc8dba010821194039ca&dn=Killing.Eve.S02E06.I.Hope.You.Like.Missionary.576p.AUBC.WEB-DL.A&tr=udp%3A%2F%2Ftracker.openbittorrent.com%3A80&tr=udp%3A%2F%2Ftracker.publicbt.com%3A80&tr=udp%3A%2F%2Ftracker.ccc.de%3A80', torrent_page_link='https://thehiddenbay.com/torrent/32659809/Killing.Eve.S02E06.I.Hope.You.Like.Missionary.576p.AUBC.WEB-DL.A')\n",
      "Torrent(title='Killing.Eve.S02E03.HDTV.x264-LucidTV[ettv]', magnet_link='magnet:?xt=urn:btih:e99bd8c38123d74698d502d3a8e4f764c93a0473&dn=Killing.Eve.S02E03.HDTV.x264-LucidTV%5Bettv%5D&tr=udp%3A%2F%2Ftracker.openbittorrent.com%3A80&tr=udp%3A%2F%2Ftracker.publicbt.com%3A80&tr=udp%3A%2F%2Ftracker.ccc.de%3A80', torrent_page_link='https://thehiddenbay.com/torrent/31853479/Killing.Eve.S02E03.HDTV.x264-LucidTV[ettv]')\n",
      "Torrent(title='Killing Eve - Season 1 (Complete) - Mp4 x264 AC3 1080p', magnet_link='magnet:?xt=urn:btih:07eb52765ca3f3df9c2bdb4a9b390309d01ec21a&dn=Killing+Eve+-+Season+1+%28Complete%29+-+Mp4+x264+AC3+1080p&tr=udp%3A%2F%2Ftracker.openbittorrent.com%3A80&tr=udp%3A%2F%2Ftracker.publicbt.com%3A80&tr=udp%3A%2F%2Ftracker.ccc.de%3A80', torrent_page_link='https://thehiddenbay.com/torrent/22546303/Killing_Eve_-_Season_1_(Complete)_-_Mp4_x264_AC3_1080p')\n",
      "Torrent(title='Killing Eve Season 1 Complete 720p WEB x264 [i_c]', magnet_link='magnet:?xt=urn:btih:8b3fdec380c08d34833e166c1195aa52c803dc29&dn=Killing+Eve+Season+1+Complete+720p+WEB+x264+%5Bi_c%5D&tr=udp%3A%2F%2Ftracker.openbittorrent.com%3A80&tr=udp%3A%2F%2Ftracker.publicbt.com%3A80&tr=udp%3A%2F%2Ftracker.ccc.de%3A80', torrent_page_link='https://thehiddenbay.com/torrent/22656870/Killing_Eve_Season_1_Complete_720p_WEB_x264_[i_c]')\n",
      "Torrent(title='Killing.Eve.S02E01.WEB-DL.AAC2.0.H.264[TGx]', magnet_link='magnet:?xt=urn:btih:b3fc6c934fbdd873ec32fde17420e2e640c20760&dn=Killing.Eve.S02E01.WEB-DL.AAC2.0.H.264%5BTGx%5D&tr=udp%3A%2F%2Ftracker.openbittorrent.com%3A80&tr=udp%3A%2F%2Ftracker.publicbt.com%3A80&tr=udp%3A%2F%2Ftracker.ccc.de%3A80', torrent_page_link='https://thehiddenbay.com/torrent/31211813/Killing.Eve.S02E01.WEB-DL.AAC2.0.H.264[TGx]')\n",
      "Torrent(title='Killing.Eve.S02E07.720p.HDTV.x264-LucidTV[ettv]', magnet_link='magnet:?xt=urn:btih:a51f9dac065750242dd7e3f871ed4ad2ef35226d&dn=Killing.Eve.S02E07.720p.HDTV.x264-LucidTV%5Bettv%5D&tr=udp%3A%2F%2Ftracker.openbittorrent.com%3A80&tr=udp%3A%2F%2Ftracker.publicbt.com%3A80&tr=udp%3A%2F%2Ftracker.ccc.de%3A80', torrent_page_link='https://thehiddenbay.com/torrent/32834356/Killing.Eve.S02E07.720p.HDTV.x264-LucidTV[ettv]')\n",
      "Torrent(title='Killing.Eve.S02E06.HDTV.x264-KILLERS[ettv]', magnet_link='magnet:?xt=urn:btih:0fad3a94fafbdb684dd12b5ef5628e81277aa022&dn=Killing.Eve.S02E06.HDTV.x264-KILLERS%5Bettv%5D&tr=udp%3A%2F%2Ftracker.openbittorrent.com%3A80&tr=udp%3A%2F%2Ftracker.publicbt.com%3A80&tr=udp%3A%2F%2Ftracker.ccc.de%3A80', torrent_page_link='https://thehiddenbay.com/torrent/32705769/Killing.Eve.S02E06.HDTV.x264-KILLERS[ettv]')\n",
      "Torrent(title='Killing.Eve.S02E01.HDTV.x264-SVA[ettv]', magnet_link='magnet:?xt=urn:btih:8bf970a639ca831643ba9701c683560de3e9a01a&dn=Killing.Eve.S02E01.HDTV.x264-SVA%5Bettv%5D&tr=udp%3A%2F%2Ftracker.openbittorrent.com%3A80&tr=udp%3A%2F%2Ftracker.publicbt.com%3A80&tr=udp%3A%2F%2Ftracker.ccc.de%3A80', torrent_page_link='https://thehiddenbay.com/torrent/31256164/Killing.Eve.S02E01.HDTV.x264-SVA[ettv]')\n",
      "Torrent(title='Killing.Eve.S02E06.720p.HDTV.x264-KILLERS[ettv]', magnet_link='magnet:?xt=urn:btih:301745243f79428819ef2e0f28b41d88ceaed059&dn=Killing.Eve.S02E06.720p.HDTV.x264-KILLERS%5Bettv%5D&tr=udp%3A%2F%2Ftracker.openbittorrent.com%3A80&tr=udp%3A%2F%2Ftracker.publicbt.com%3A80&tr=udp%3A%2F%2Ftracker.ccc.de%3A80', torrent_page_link='https://thehiddenbay.com/torrent/32705774/Killing.Eve.S02E06.720p.HDTV.x264-KILLERS[ettv]')\n",
      "Torrent(title='Killing.Eve.S01E01.WEBRip.x264-TBS[ettv]', magnet_link='magnet:?xt=urn:btih:f3d007be5d17e37ced85794b17ff0bee2bba0fd0&dn=Killing.Eve.S01E01.WEBRip.x264-TBS%5Bettv%5D&tr=udp%3A%2F%2Ftracker.openbittorrent.com%3A80&tr=udp%3A%2F%2Ftracker.publicbt.com%3A80&tr=udp%3A%2F%2Ftracker.ccc.de%3A80', torrent_page_link='https://thehiddenbay.com/torrent/21013980/Killing.Eve.S01E01.WEBRip.x264-TBS[ettv]')\n",
      "Torrent(title='Killing.Eve.S02E04.720p.HDTV.x264-KILLERS[ettv]', magnet_link='magnet:?xt=urn:btih:2b41cd15aa6339b6d6fe15fe3b7756b386a23564&dn=Killing.Eve.S02E04.720p.HDTV.x264-KILLERS%5Bettv%5D&tr=udp%3A%2F%2Ftracker.openbittorrent.com%3A80&tr=udp%3A%2F%2Ftracker.publicbt.com%3A80&tr=udp%3A%2F%2Ftracker.ccc.de%3A80', torrent_page_link='https://thehiddenbay.com/torrent/32157151/Killing.Eve.S02E04.720p.HDTV.x264-KILLERS[ettv]')\n",
      "Torrent(title='Killing.Eve.S02E05.Smell.Ya.Later.576p.AUBC.WEB-DL.AAC2.0.x264[T', magnet_link='magnet:?xt=urn:btih:310714cd1cdce0e4541b15b6198d86937fd4f4b3&dn=Killing.Eve.S02E05.Smell.Ya.Later.576p.AUBC.WEB-DL.AAC2.0.x264%5BT&tr=udp%3A%2F%2Ftracker.openbittorrent.com%3A80&tr=udp%3A%2F%2Ftracker.publicbt.com%3A80&tr=udp%3A%2F%2Ftracker.ccc.de%3A80', torrent_page_link='https://thehiddenbay.com/torrent/32417050/Killing.Eve.S02E05.Smell.Ya.Later.576p.AUBC.WEB-DL.AAC2.0.x264[T')\n",
      "Torrent(title='Killing.Eve.S02E03.720p.HDTV.x264-LucidTV[ettv]', magnet_link='magnet:?xt=urn:btih:41ee59f664875e838612e9ae79f85c30a22fcef5&dn=Killing.Eve.S02E03.720p.HDTV.x264-LucidTV%5Bettv%5D&tr=udp%3A%2F%2Ftracker.openbittorrent.com%3A80&tr=udp%3A%2F%2Ftracker.publicbt.com%3A80&tr=udp%3A%2F%2Ftracker.ccc.de%3A80', torrent_page_link='https://thehiddenbay.com/torrent/31853462/Killing.Eve.S02E03.720p.HDTV.x264-LucidTV[ettv]')\n",
      "Torrent(title='Killing.Eve.S02E05.720p.HDTV.x264-KILLERS[ettv]', magnet_link='magnet:?xt=urn:btih:5247b3e7f0b0fbb9b65abb36f2876f935aea9f98&dn=Killing.Eve.S02E05.720p.HDTV.x264-KILLERS%5Bettv%5D&tr=udp%3A%2F%2Ftracker.openbittorrent.com%3A80&tr=udp%3A%2F%2Ftracker.publicbt.com%3A80&tr=udp%3A%2F%2Ftracker.ccc.de%3A80', torrent_page_link='https://thehiddenbay.com/torrent/32490349/Killing.Eve.S02E05.720p.HDTV.x264-KILLERS[ettv]')\n",
      "Torrent(title='Killing.Eve.S01E08.HDTV.x264-W4F', magnet_link='magnet:?xt=urn:btih:c3e345edc4113c7a9769afee5b63199a0e2121f1&dn=Killing.Eve.S01E08.HDTV.x264-W4F&tr=udp%3A%2F%2Ftracker.openbittorrent.com%3A80&tr=udp%3A%2F%2Ftracker.publicbt.com%3A80&tr=udp%3A%2F%2Ftracker.ccc.de%3A80', torrent_page_link='https://thehiddenbay.com/torrent/22406843/Killing.Eve.S01E08.HDTV.x264-W4F')\n",
      "Torrent(title='Killing.Eve.S01E03.CONVERT.WEB.h264-TBS', magnet_link='magnet:?xt=urn:btih:a50ab97722d4437db1a7bf96a5121234581ee9ec&dn=Killing.Eve.S01E03.CONVERT.WEB.h264-TBS&tr=udp%3A%2F%2Ftracker.openbittorrent.com%3A80&tr=udp%3A%2F%2Ftracker.publicbt.com%3A80&tr=udp%3A%2F%2Ftracker.ccc.de%3A80', torrent_page_link='https://thehiddenbay.com/torrent/21191998/Killing.Eve.S01E03.CONVERT.WEB.h264-TBS')\n",
      "Torrent(title='Killing.Eve.S02E06.1080p.WEB.H264-METCON[TGx]', magnet_link='magnet:?xt=urn:btih:36980ff037a59a8380c33f7dae729aeff4629976&dn=Killing.Eve.S02E06.1080p.WEB.H264-METCON%5BTGx%5D&tr=udp%3A%2F%2Ftracker.openbittorrent.com%3A80&tr=udp%3A%2F%2Ftracker.publicbt.com%3A80&tr=udp%3A%2F%2Ftracker.ccc.de%3A80', torrent_page_link='https://thehiddenbay.com/torrent/32706883/Killing.Eve.S02E06.1080p.WEB.H264-METCON[TGx]')\n",
      "Torrent(title='Killing Eve S02E07 iNTERNAL 1080p WEB H264-AMRAP', magnet_link='magnet:?xt=urn:btih:a380daa11814190edce1ad2b5fb936a0db5ea033&dn=Killing+Eve+S02E07+iNTERNAL+1080p+WEB+H264-AMRAP&tr=udp%3A%2F%2Ftracker.openbittorrent.com%3A80&tr=udp%3A%2F%2Ftracker.publicbt.com%3A80&tr=udp%3A%2F%2Ftracker.ccc.de%3A80', torrent_page_link='https://thehiddenbay.com/torrent/32837357/Killing_Eve_S02E07_iNTERNAL_1080p_WEB_H264-AMRAP')\n",
      "Torrent(title='Killing.Eve.S02E02.XviD-AFG[TGx]', magnet_link='magnet:?xt=urn:btih:447d219b7a633882782b1f83516405cc1a77655b&dn=Killing.Eve.S02E02.XviD-AFG%5BTGx%5D&tr=udp%3A%2F%2Ftracker.openbittorrent.com%3A80&tr=udp%3A%2F%2Ftracker.publicbt.com%3A80&tr=udp%3A%2F%2Ftracker.ccc.de%3A80', torrent_page_link='https://thehiddenbay.com/torrent/31493195/Killing.Eve.S02E02.XviD-AFG[TGx]')\n",
      "Torrent(title='Killing.Eve.S02E01.1080p.WEB-DL.AAC.H264-CMRG[TGx]', magnet_link='magnet:?xt=urn:btih:dc8a552af09eb162aba818ead1fbf6a0445e95fe&dn=Killing.Eve.S02E01.1080p.WEB-DL.AAC.H264-CMRG%5BTGx%5D&tr=udp%3A%2F%2Ftracker.openbittorrent.com%3A80&tr=udp%3A%2F%2Ftracker.publicbt.com%3A80&tr=udp%3A%2F%2Ftracker.ccc.de%3A80', torrent_page_link='https://thehiddenbay.com/torrent/31259233/Killing.Eve.S02E01.1080p.WEB-DL.AAC.H264-CMRG[TGx]')\n",
      "Torrent(title='Killing.Eve.S01.COMPLETE.720p.AMZN.WEBRip.x264-GalaxyTV', magnet_link='magnet:?xt=urn:btih:a1f1d5a242b88658652bede8f4df6350e14c7afc&dn=Killing.Eve.S01.COMPLETE.720p.AMZN.WEBRip.x264-GalaxyTV&tr=udp%3A%2F%2Ftracker.openbittorrent.com%3A80&tr=udp%3A%2F%2Ftracker.publicbt.com%3A80&tr=udp%3A%2F%2Ftracker.ccc.de%3A80', torrent_page_link='https://thehiddenbay.com/torrent/31273386/Killing.Eve.S01.COMPLETE.720p.AMZN.WEBRip.x264-GalaxyTV')\n",
      "Torrent(title='Killing.Eve.S02E03.1080p.WEB.H264-AMCON[TGx]', magnet_link='magnet:?xt=urn:btih:f74a0f8b8802f093fe50cd1a2bc9d578120434f1&dn=Killing.Eve.S02E03.1080p.WEB.H264-AMCON%5BTGx%5D&tr=udp%3A%2F%2Ftracker.openbittorrent.com%3A80&tr=udp%3A%2F%2Ftracker.publicbt.com%3A80&tr=udp%3A%2F%2Ftracker.ccc.de%3A80', torrent_page_link='https://thehiddenbay.com/torrent/31858476/Killing.Eve.S02E03.1080p.WEB.H264-AMCON[TGx]')\n",
      "Torrent(title='Killing.Eve.S01E06.HDTV.x264-W4F[ettv]', magnet_link='magnet:?xt=urn:btih:75486dd0829989b68ef2fdcf973f3491dd4c870a&dn=Killing.Eve.S01E06.HDTV.x264-W4F%5Bettv%5D&tr=udp%3A%2F%2Ftracker.openbittorrent.com%3A80&tr=udp%3A%2F%2Ftracker.publicbt.com%3A80&tr=udp%3A%2F%2Ftracker.ccc.de%3A80', torrent_page_link='https://thehiddenbay.com/torrent/21945016/Killing.Eve.S01E06.HDTV.x264-W4F[ettv]')\n",
      "Torrent(title='Killing.Eve.S02E07.HDTV.x264-LucidTV[ettv]', magnet_link='magnet:?xt=urn:btih:8015e57eaec182f66fb1b7afe4f239253f084d51&dn=Killing.Eve.S02E07.HDTV.x264-LucidTV%5Bettv%5D&tr=udp%3A%2F%2Ftracker.openbittorrent.com%3A80&tr=udp%3A%2F%2Ftracker.publicbt.com%3A80&tr=udp%3A%2F%2Ftracker.ccc.de%3A80', torrent_page_link='https://thehiddenbay.com/torrent/32856382/Killing.Eve.S02E07.HDTV.x264-LucidTV[ettv]')\n",
      "Torrent(title='Killing.Eve.S01E02.720p.HDTV.x264-W4F[ettv]', magnet_link='magnet:?xt=urn:btih:2d3154b2a8c641fdd1eaa6a6b23ee7f092429035&dn=Killing.Eve.S01E02.720p.HDTV.x264-W4F%5Bettv%5D&tr=udp%3A%2F%2Ftracker.openbittorrent.com%3A80&tr=udp%3A%2F%2Ftracker.publicbt.com%3A80&tr=udp%3A%2F%2Ftracker.ccc.de%3A80', torrent_page_link='https://thehiddenbay.com/torrent/21095127/Killing.Eve.S01E02.720p.HDTV.x264-W4F[ettv]')\n"
     ]
    },
    {
     "data": {
      "text/plain": [
       "[None,\n",
       " None,\n",
       " None,\n",
       " None,\n",
       " None,\n",
       " None,\n",
       " None,\n",
       " None,\n",
       " None,\n",
       " None,\n",
       " None,\n",
       " None,\n",
       " None,\n",
       " None,\n",
       " None,\n",
       " None,\n",
       " None,\n",
       " None,\n",
       " None,\n",
       " None,\n",
       " None,\n",
       " None,\n",
       " None,\n",
       " None,\n",
       " None,\n",
       " None,\n",
       " None,\n",
       " None,\n",
       " None,\n",
       " None]"
      ]
     },
     "execution_count": 37,
     "metadata": {},
     "output_type": "execute_result"
    }
   ],
   "source": [
    "[print(item) for item in result_dict]"
   ]
  },
  {
   "cell_type": "code",
   "execution_count": null,
   "metadata": {},
   "outputs": [],
   "source": []
  },
  {
   "cell_type": "code",
   "execution_count": null,
   "metadata": {},
   "outputs": [],
   "source": []
  },
  {
   "cell_type": "code",
   "execution_count": null,
   "metadata": {},
   "outputs": [],
   "source": []
  },
  {
   "cell_type": "code",
   "execution_count": null,
   "metadata": {},
   "outputs": [],
   "source": []
  }
 ],
 "metadata": {
  "kernelspec": {
   "display_name": "Python 3",
   "language": "python",
   "name": "python3"
  },
  "language_info": {
   "codemirror_mode": {
    "name": "ipython",
    "version": 3
   },
   "file_extension": ".py",
   "mimetype": "text/x-python",
   "name": "python",
   "nbconvert_exporter": "python",
   "pygments_lexer": "ipython3",
   "version": "3.7.1"
  }
 },
 "nbformat": 4,
 "nbformat_minor": 2
}
